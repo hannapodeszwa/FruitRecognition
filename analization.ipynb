{
 "cells": [
  {
   "cell_type": "code",
   "execution_count": 2,
   "metadata": {},
   "outputs": [],
   "source": [
    "import tensorflow as tf\r\n",
    "from tensorflow.keras.optimizers import RMSprop\r\n",
    "import keras_preprocessing\r\n",
    "from keras_preprocessing import image\r\n",
    "from keras.preprocessing.image import ImageDataGenerator\r\n",
    "import matplotlib.pyplot as plt\r\n",
    "import matplotlib.image as mpimg\r\n",
    "import os"
   ]
  },
  {
   "cell_type": "code",
   "execution_count": 3,
   "metadata": {},
   "outputs": [],
   "source": [
    "training_datagen = ImageDataGenerator(rescale = 1./255)\r\n",
    "validation_datagen = ImageDataGenerator(rescale = 1./255)"
   ]
  },
  {
   "cell_type": "code",
   "execution_count": 4,
   "metadata": {},
   "outputs": [
    {
     "name": "stdout",
     "output_type": "stream",
     "text": [
      "Found 49131 images belonging to 15 classes.\n"
     ]
    }
   ],
   "source": [
    "train_dir = r\"C:\\Users\\hanna\\Desktop\\fruit recognition\\fruitSplit\\train\"\r\n",
    "train_gen = training_datagen.flow_from_directory(train_dir, #directory containing various fruits\r\n",
    "                                                target_size=(150, 150), # all images will be resized to 150, 150 when it is loaded\r\n",
    "                                                class_mode=\"categorical\") #categorial because of multi-class classification. \r\n",
    "                                                #if only two classes, then \"binay\""
   ]
  },
  {
   "cell_type": "code",
   "execution_count": 5,
   "metadata": {},
   "outputs": [
    {
     "name": "stdout",
     "output_type": "stream",
     "text": [
      "Found 10523 images belonging to 15 classes.\n"
     ]
    }
   ],
   "source": [
    "val_dir = r\"C:\\Users\\hanna\\Desktop\\fruit recognition\\fruitSplit\\val\"\r\n",
    "val_gen = validation_datagen.flow_from_directory(val_dir, #directory containing various fruits\r\n",
    "                                                target_size=(150, 150), # all images will be resized to 150, 150 when it is loaded\r\n",
    "                                                class_mode=\"categorical\")"
   ]
  },
  {
   "cell_type": "code",
   "execution_count": 6,
   "metadata": {},
   "outputs": [
    {
     "name": "stdout",
     "output_type": "stream",
     "text": [
      "total training apple images: 7584\n",
      "total training banana images: 2118\n"
     ]
    }
   ],
   "source": [
    "# apple directory\r\n",
    "train_apple_dir = r\"C:\\Users\\hanna\\Desktop\\fruit recognition\\fruitSplit\\train\\Apple\"\r\n",
    "\r\n",
    "# printing the number of apples in train dataset\r\n",
    "number_apples_train = len(os.listdir(train_apple_dir))\r\n",
    "print(\"total training apple images:\", number_apples_train)\r\n",
    "\r\n",
    "#banana directory\r\n",
    "train_banana_dir = r\"C:\\Users\\hanna\\Desktop\\fruit recognition\\fruitSplit\\train\\Banana\"\r\n",
    "\r\n",
    "# printing the number of bananas in train dataset\r\n",
    "number_banana_train = len(os.listdir(train_banana_dir))\r\n",
    "print(\"total training banana images:\", number_banana_train)"
   ]
  }
 ],
 "metadata": {
  "kernelspec": {
   "display_name": "Python 3.7.9 64-bit ('fruit_recognition-yvhTsC1M': virtualenvwrapper)",
   "name": "python379jvsc74a57bd07d23a6fadc9e8c26e001651b4f179e178e1a97351569d6ea3045b162fb99690e"
  },
  "language_info": {
   "name": "python",
   "version": ""
  },
  "metadata": {
   "interpreter": {
    "hash": "7d23a6fadc9e8c26e001651b4f179e178e1a97351569d6ea3045b162fb99690e"
   }
  },
  "orig_nbformat": 2
 },
 "nbformat": 4,
 "nbformat_minor": 2
}